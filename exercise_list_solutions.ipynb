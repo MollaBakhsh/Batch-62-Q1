{
 "cells": [
  {
   "cell_type": "code",
   "execution_count": 72,
   "metadata": {},
   "outputs": [
    {
     "name": "stdout",
     "output_type": "stream",
     "text": [
      "['Muhammad', 'Ali', 'Riaz', 'Yaseen']\n"
     ]
    }
   ],
   "source": [
    "# Exercise 3-1: Names\n",
    "names: list =  ['Muhammad', 'Ali', 'Riaz', 'Yaseen']\n",
    "print(names)"
   ]
  },
  {
   "cell_type": "code",
   "execution_count": 73,
   "metadata": {},
   "outputs": [
    {
     "name": "stdout",
     "output_type": "stream",
     "text": [
      "Muhammad\n"
     ]
    }
   ],
   "source": [
    "print(names[0])"
   ]
  },
  {
   "cell_type": "code",
   "execution_count": 74,
   "metadata": {},
   "outputs": [
    {
     "name": "stdout",
     "output_type": "stream",
     "text": [
      "Ali\n"
     ]
    }
   ],
   "source": [
    "print(names[1])"
   ]
  },
  {
   "cell_type": "code",
   "execution_count": 75,
   "metadata": {},
   "outputs": [
    {
     "name": "stdout",
     "output_type": "stream",
     "text": [
      "Riaz\n"
     ]
    }
   ],
   "source": [
    "print(names[2])"
   ]
  },
  {
   "cell_type": "code",
   "execution_count": 76,
   "metadata": {},
   "outputs": [
    {
     "name": "stdout",
     "output_type": "stream",
     "text": [
      "Yaseen\n"
     ]
    }
   ],
   "source": [
    "print(names[3])"
   ]
  },
  {
   "cell_type": "code",
   "execution_count": 105,
   "metadata": {},
   "outputs": [
    {
     "name": "stdout",
     "output_type": "stream",
     "text": [
      "Hello, Muhammad! How are you doing today?\n",
      "Hello, Ali! How are you doing today?\n",
      "Hello, Riaz! How are you doing today?\n",
      "Hello, Yaseen! How are you doing today?\n"
     ]
    }
   ],
   "source": [
    "# Exercise 3-2: Greetings\n",
    "names: list =  ['Muhammad', 'Ali', 'Riaz', 'Yaseen']\n",
    "for name in names:\n",
    "    print(f\"Hello, {name}! How are you doing today?\")"
   ]
  },
  {
   "cell_type": "code",
   "execution_count": 87,
   "metadata": {},
   "outputs": [
    {
     "name": "stdout",
     "output_type": "stream",
     "text": [
      "I would like to own a cycle.\n",
      "I would like to own a motorcycle.\n",
      "I would like to own a car.\n"
     ]
    }
   ],
   "source": [
    "# Exercise 3-3: Your Own List\n",
    "transportation_modes: list = ['cycle', 'motorcycle', 'car'] \n",
    "for mode in transportation_modes:\n",
    "    print(f\"I would like to own a {mode}.\")"
   ]
  },
  {
   "cell_type": "code",
   "execution_count": 92,
   "metadata": {},
   "outputs": [
    {
     "name": "stdout",
     "output_type": "stream",
     "text": [
      "Dear Riaz, you are invited to dinner. Please join us for an evening of stimulating conversation.\n",
      "Dear Mola Bakhsh, you are invited to dinner. Please join us for an evening of stimulating conversation.\n",
      "Dear Allah Bakhsh, you are invited to dinner. Please join us for an evening of stimulating conversation.\n",
      "Dear Khan SB, you are invited to dinner. Please join us for an evening of stimulating conversation.\n"
     ]
    }
   ],
   "source": [
    "# Exercise 3-4: Guest List\n",
    "guests: list = ['Riaz', 'Mola Bakhsh', 'Allah Bakhsh', 'Khan SB']\n",
    "for guest in guests:\n",
    "    print(f\"Dear {guest}, you are invited to dinner. Please join us for an evening of stimulating conversation.\")"
   ]
  },
  {
   "cell_type": "code",
   "execution_count": 111,
   "metadata": {},
   "outputs": [
    {
     "name": "stdout",
     "output_type": "stream",
     "text": [
      "Unfortunately, Mola Bakhsh can't make it to dinner.\n",
      "Dear Riaz, you are invited to dinner. Please join us for an evening of stimulating conversation.\n",
      "Dear Allah Ditta, you are invited to dinner. Please join us for an evening of stimulating conversation.\n",
      "Dear Allah Bakhsh, you are invited to dinner. Please join us for an evening of stimulating conversation.\n",
      "Dear Khan SB, you are invited to dinner. Please join us for an evening of stimulating conversation.\n"
     ]
    }
   ],
   "source": [
    "# Exercise 3-5: Changing Guest List\n",
    "guests: list = ['Riaz', 'Mola Bakhsh', 'Allah Bakhsh', 'Khan SB']\n",
    "print(f\"Unfortunately, {guests[1]} can't make it to dinner.\")\n",
    "\n",
    "guests[1] = 'Allah Ditta' \n",
    "\n",
    "for guest in guests:\n",
    "    print(f\"Dear {guest}, you are invited to dinner. Please join us for an evening of stimulating conversation.\")\n"
   ]
  },
  {
   "cell_type": "code",
   "execution_count": 100,
   "metadata": {},
   "outputs": [
    {
     "name": "stdout",
     "output_type": "stream",
     "text": [
      "Good news! We got a great table!\n",
      "Dear Ahmed, you are invited to dinner. Please join us for an evening of stimulating conversation.\n",
      "Dear Riaz, you are invited to dinner. Please join us for an evening of stimulating conversation.\n",
      "Dear Baba Ali allah, you are invited to dinner. Please join us for an evening of stimulating conversation.\n",
      "Dear Mola Bakhsh, you are invited to dinner. Please join us for an evening of stimulating conversation.\n",
      "Dear Allah Ditta, you are invited to dinner. Please join us for an evening of stimulating conversation.\n",
      "Dear Khan SB, you are invited to dinner. Please join us for an evening of stimulating conversation.\n",
      "Dear Jahanzaib Tayyab, you are invited to dinner. Please join us for an evening of stimulating conversation.\n"
     ]
    }
   ],
   "source": [
    "# Exercise 3-6: More Guests\n",
    "guests: list = ['Riaz', 'Mola Bakhsh', 'Allah Ditta', 'Khan SB']\n",
    "print(\"Good news! We got a great table!\")\n",
    "\n",
    "guests.insert(0, 'Ahmed')\n",
    "guests.insert(2, 'Baba Ali allah')\n",
    "guests.append('Jahanzaib Tayyab')\n",
    "\n",
    "for guest in guests:\n",
    "    print(f\"Dear {guest}, you are invited to dinner. Please join us for an evening of stimulating conversation.\")"
   ]
  },
  {
   "cell_type": "code",
   "execution_count": 118,
   "metadata": {},
   "outputs": [
    {
     "name": "stdout",
     "output_type": "stream",
     "text": [
      "Sadly, we can only invite two people for dinner.\n",
      "Sorry, yaseen, we can't invite you to dinner this time.\n",
      "Sorry, Jahanzaib Tayyab, we can't invite you to dinner this time.\n",
      "Sorry, Khan SB, we can't invite you to dinner this time.\n",
      "Sorry, Allah Ditta, we can't invite you to dinner this time.\n",
      "Sorry, Mola Bakhsh, we can't invite you to dinner this time.\n",
      "Sorry, Baba Ali allah, we can't invite you to dinner this time.\n"
     ]
    }
   ],
   "source": [
    "# Exercise 3-7: Shrinking Guest List\n",
    "guests: list = ['Ahmed', 'Riaz', 'Baba Ali allah', 'Mola Bakhsh', 'Allah Ditta', 'Khan SB', 'Jahanzaib Tayyab', 'yaseen']\n",
    "\n",
    "print(\"Sadly, we can only invite two people for dinner.\")\n",
    "\n",
    "while len(guests) > 2:\n",
    "    remove_guest = guests.pop()\n",
    "    print(f\"Sorry, {remove_guest}, we can't invite you to dinner this time.\")"
   ]
  },
  {
   "cell_type": "code",
   "execution_count": 139,
   "metadata": {},
   "outputs": [
    {
     "name": "stdout",
     "output_type": "stream",
     "text": [
      "['makah', 'madina', 'dubai', 'usa', 'murree']\n",
      "['dubai', 'madina', 'makah', 'murree', 'usa']\n",
      "['makah', 'madina', 'dubai', 'usa', 'murree']\n",
      "['usa', 'murree', 'makah', 'madina', 'dubai']\n",
      "['makah', 'madina', 'dubai', 'usa', 'murree']\n",
      "['murree', 'usa', 'dubai', 'madina', 'makah']\n",
      "['dubai', 'madina', 'makah', 'murree', 'usa']\n",
      "['usa', 'murree', 'makah', 'madina', 'dubai']\n"
     ]
    }
   ],
   "source": [
    "# Exercise 3-8: Seeing the World\n",
    "places: list = ['makah', 'madina', 'dubai', 'usa', 'murree']\n",
    "print(places)\n",
    "\n",
    "print(sorted(places))\n",
    "print(places)\n",
    "\n",
    "print(sorted(places, reverse=True))\n",
    "print(places)\n",
    "\n",
    "places.reverse()\n",
    "print(places)\n",
    "\n",
    "places.sort()\n",
    "print(places)\n",
    "\n",
    "places.sort(reverse=True)\n",
    "print(places)"
   ]
  },
  {
   "cell_type": "code",
   "execution_count": 153,
   "metadata": {},
   "outputs": [
    {
     "name": "stdout",
     "output_type": "stream",
     "text": [
      "['k2', 'ravi', 'pakistan', 'vehari', 'urdu']\n",
      "['k2', 'pakistan', 'ravi', 'urdu', 'vehari']\n",
      "['vehari', 'urdu', 'ravi', 'pakistan', 'k2']\n",
      "['urdu', 'vehari', 'pakistan', 'ravi', 'k2']\n",
      "['k2', 'pakistan', 'ravi', 'urdu', 'vehari']\n",
      "['vehari', 'urdu', 'ravi', 'pakistan', 'k2']\n"
     ]
    }
   ],
   "source": [
    "# Exercise 3-9: Every Function\n",
    "things=[\"k2\",\"ravi\",\"pakistan\",\"vehari\",\"urdu\"]\n",
    "print(things)\n",
    "\n",
    "print(sorted(things))\n",
    "print(sorted(things, reverse=True))\n",
    "\n",
    "things.reverse()\n",
    "print(things)\n",
    "\n",
    "things.sort()\n",
    "print(things)\n",
    "\n",
    "things.sort(reverse=True)\n",
    "print(things)\n",
    "\n"
   ]
  },
  {
   "cell_type": "code",
   "execution_count": 159,
   "metadata": {},
   "outputs": [
    {
     "name": "stdout",
     "output_type": "stream",
     "text": [
      "urdu\n"
     ]
    }
   ],
   "source": [
    "things=[\"k2\",\"ravi\",\"pakistan\",\"vehari\",\"urdu\"]\n",
    "# print(things[6]\n",
    "print(things[-1])"
   ]
  },
  {
   "cell_type": "code",
   "execution_count": null,
   "metadata": {},
   "outputs": [],
   "source": []
  },
  {
   "cell_type": "code",
   "execution_count": null,
   "metadata": {},
   "outputs": [],
   "source": []
  },
  {
   "cell_type": "markdown",
   "metadata": {},
   "source": []
  }
 ],
 "metadata": {
  "kernelspec": {
   "display_name": "Python 3",
   "language": "python",
   "name": "python3"
  },
  "language_info": {
   "codemirror_mode": {
    "name": "ipython",
    "version": 3
   },
   "file_extension": ".py",
   "mimetype": "text/x-python",
   "name": "python",
   "nbconvert_exporter": "python",
   "pygments_lexer": "ipython3",
   "version": "3.12.4"
  }
 },
 "nbformat": 4,
 "nbformat_minor": 2
}
