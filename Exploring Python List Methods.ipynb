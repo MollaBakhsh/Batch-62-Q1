{
 "cells": [
  {
   "cell_type": "code",
   "execution_count": 2,
   "metadata": {},
   "outputs": [
    {
     "name": "stdout",
     "output_type": "stream",
     "text": [
      "['banana', 'cherry', 'apple']\n"
     ]
    }
   ],
   "source": [
    "#1.append()\n",
    "#Desciption:Adds a single element to the end of the list.\n",
    "#syntsx:'list.append(element)'\n",
    "#'element':'The item to be added to the list.\n",
    "#Return Type: 'None'\n",
    "#Example:\n",
    "\n",
    "fruits = [\"banana\",\"cherry\"]\n",
    "fruits.append(\"apple\")\n",
    "print(fruits)"
   ]
  },
  {
   "cell_type": "code",
   "execution_count": 3,
   "metadata": {},
   "outputs": [
    {
     "name": "stdout",
     "output_type": "stream",
     "text": [
      "['banana', 'cherry', 'apple', 'orange']\n"
     ]
    }
   ],
   "source": [
    "#2. extend()\n",
    "#Description: Adds all elements from an iterable (e.g., another list, tuple) to the end of the list.\n",
    "#Syntax: list.extend(iterable)\n",
    "#iterable: An iterable like list, tuple, or set whose elements are added to the list.\n",
    "#Return Type: None\n",
    "#Example:\n",
    "\n",
    "fruits = [\"banana\",\"cherry\"]\n",
    "fruits.extend([\"apple\",\"orange\"])\n",
    "print(fruits)"
   ]
  },
  {
   "cell_type": "code",
   "execution_count": 4,
   "metadata": {},
   "outputs": [
    {
     "name": "stdout",
     "output_type": "stream",
     "text": [
      "['banana', 'apple', 'cherry']\n"
     ]
    }
   ],
   "source": [
    "#3. insert()\n",
    "#Description: Inserts an element at a specified position in the list.\n",
    "#Syntax: list.insert(index, element)\n",
    "#index: The position where the element is to be inserted.\n",
    "#element: The element to be inserted.\n",
    "#Return Type: None\n",
    "#Example:\n",
    "\n",
    "fruits = [\"banana\",\"cherry\"]\n",
    "fruits.insert(1,\"apple\")\n",
    "print(fruits)\n"
   ]
  },
  {
   "cell_type": "code",
   "execution_count": 5,
   "metadata": {},
   "outputs": [
    {
     "name": "stdout",
     "output_type": "stream",
     "text": [
      "['banana', 'cherry']\n"
     ]
    }
   ],
   "source": [
    "#4. remove()\n",
    "#Description: Removes the first occurrence of the specified element from the list.\n",
    "#Syntax: list.remove(element)\n",
    "#element: The item to be removed.\n",
    "#Return Type: None\n",
    "#Example:\n",
    "fruits = [\"banana\", \"apple\",\"cherry\"]\n",
    "fruits.remove(\"apple\")\n",
    "print(fruits)"
   ]
  },
  {
   "cell_type": "code",
   "execution_count": 8,
   "metadata": {},
   "outputs": [
    {
     "name": "stdout",
     "output_type": "stream",
     "text": [
      "cherry\n",
      "['apple', 'banana']\n"
     ]
    }
   ],
   "source": [
    "#5. pop()\n",
    "#Description: Removes and returns the element at the specified position. If no index is specified, removes and returns the last item.\n",
    "#Syntax: list.pop([index])\n",
    "#index: Optional. The position of the element to be removed.\n",
    "#Return Type: The removed element.\n",
    "#Example:\n",
    "\n",
    "fruits = [\"apple\", \"banana\", \"cherry\"]\n",
    "last_fruit = fruits.pop()\n",
    "print(last_fruit)\n",
    "print(fruits)"
   ]
  },
  {
   "cell_type": "code",
   "execution_count": 10,
   "metadata": {},
   "outputs": [
    {
     "name": "stdout",
     "output_type": "stream",
     "text": [
      "[]\n"
     ]
    }
   ],
   "source": [
    "#6. clear()\n",
    "#Description: Removes all elements from the list.\n",
    "#Syntax: list.clear()\n",
    "#Return Type: None\n",
    "#Example:\n",
    "\n",
    "fruits = [\"apple\",\"banana\",\"cherry\"]\n",
    "fruits.clear()\n",
    "print(fruits)"
   ]
  },
  {
   "cell_type": "code",
   "execution_count": 15,
   "metadata": {},
   "outputs": [
    {
     "name": "stdout",
     "output_type": "stream",
     "text": [
      "1\n"
     ]
    }
   ],
   "source": [
    "#7. index()\n",
    "#Description: Returns the index of the first occurrence of the specified element in the list.\n",
    "#Syntax: list.index(element, [start, [end]])\n",
    "#element: The element to find.\n",
    "#start: Optional. The starting position of the search.\n",
    "#end: Optional. The ending position of the search.\n",
    "#Return Type: int (the index of the element)\n",
    "#Example\n",
    "fruits=(\"apple\",\"banana\",\"cherry\")\n",
    "index_of_banana = fruits.index(\"banana\")\n",
    "print(index_of_banana) "
   ]
  },
  {
   "cell_type": "code",
   "execution_count": 16,
   "metadata": {},
   "outputs": [
    {
     "name": "stdout",
     "output_type": "stream",
     "text": [
      "2\n"
     ]
    }
   ],
   "source": [
    "#8. count()\n",
    "#Description: Returns the number of occurrences of the specified element in the list.\n",
    "#Syntax: list.count(element)\n",
    "#element: The element to count.\n",
    "#Return Type: int\n",
    "#Example:\n",
    "\n",
    "fruits=(\"apple\",\"banana\",\"cherry\",\"apple\")\n",
    "count_apple=fruits.count(\"apple\")\n",
    "print(count_apple)"
   ]
  },
  {
   "cell_type": "code",
   "execution_count": 22,
   "metadata": {},
   "outputs": [
    {
     "name": "stdout",
     "output_type": "stream",
     "text": [
      "['apple', 'banana', 'cherry']\n"
     ]
    }
   ],
   "source": [
    "#9. sort()\n",
    "#Description: Sorts the elements of the list in ascending or descending order.\n",
    "#Syntax: list.sort(key=None, reverse=False)\n",
    "#key: Optional. A function to customize the sort order.\n",
    "#reverse: Optional. Set to True to sort in descending order.\n",
    "#Return Type: None\n",
    "#Example:\n",
    "fruits=[\"apple\",\"banana\",\"cherry\"]\n",
    "fruits.sort()\n",
    "print(fruits)"
   ]
  },
  {
   "cell_type": "code",
   "execution_count": 23,
   "metadata": {},
   "outputs": [
    {
     "name": "stdout",
     "output_type": "stream",
     "text": [
      "['cherry', 'banana', 'apple']\n"
     ]
    }
   ],
   "source": [
    "#10. reverse()\n",
    "#Description: Reverses the order of elements in the list.\n",
    "#Syntax: list.reverse()\n",
    "#Return Type: None\n",
    "#Example:\n",
    "fruits = [\"apple\", \"banana\", \"cherry\"]\n",
    "fruits.reverse()\n",
    "print(fruits)"
   ]
  },
  {
   "cell_type": "code",
   "execution_count": 24,
   "metadata": {},
   "outputs": [
    {
     "name": "stdout",
     "output_type": "stream",
     "text": [
      "['apple', 'banana', 'cherry']\n"
     ]
    }
   ],
   "source": [
    "#11. copy()\n",
    "#Description: Returns a shallow copy of the list.\n",
    "#Syntax: list.copy()\n",
    "#Return Type: list (a new list that is a copy of the original list)\n",
    "#Example:\n",
    "fruits = [\"apple\", \"banana\", \"cherry\"]\n",
    "new_fruits = fruits.copy()\n",
    "print(new_fruits)"
   ]
  }
 ],
 "metadata": {
  "kernelspec": {
   "display_name": "Python 3",
   "language": "python",
   "name": "python3"
  },
  "language_info": {
   "codemirror_mode": {
    "name": "ipython",
    "version": 3
   },
   "file_extension": ".py",
   "mimetype": "text/x-python",
   "name": "python",
   "nbconvert_exporter": "python",
   "pygments_lexer": "ipython3",
   "version": "3.12.4"
  }
 },
 "nbformat": 4,
 "nbformat_minor": 2
}
